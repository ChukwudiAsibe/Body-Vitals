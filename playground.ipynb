{
 "cells": [
  {
   "cell_type": "code",
   "execution_count": 7,
   "metadata": {},
   "outputs": [],
   "source": [
    "import pandas as pd\n",
    "import Server"
   ]
  },
  {
   "cell_type": "code",
   "execution_count": 8,
   "metadata": {},
   "outputs": [],
   "source": [
    "vitals = pd.read_csv('C:/Users/CONIDSL00330/Desktop/ASIBE_DOCUMENT/Data Science CV/Pojects/Body Vitals/App_Dev/resources/human_vital_signs_dataset_2024.csv')\n",
    "vitals.head()\n",
    "\n",
    "vitals = vitals.drop(['Patient ID', 'Timestamp', 'Derived_HRV'], axis=1)\n",
    "vitals.Gender = vitals.Gender.map({'Male':1, 'Female':0})"
   ]
  },
  {
   "cell_type": "code",
   "execution_count": 9,
   "metadata": {},
   "outputs": [],
   "source": [
    "from sklearn.model_selection import train_test_split\n",
    "\n",
    "Features = vitals.drop('Risk Category', axis=1)\n",
    "Target = vitals['Risk Category']\n",
    "\n",
    "train_X, test_X, train_y, test_y = train_test_split(Features, Target, test_size=0.3, random_state=42, stratify=Target)"
   ]
  },
  {
   "cell_type": "code",
   "execution_count": 10,
   "metadata": {},
   "outputs": [],
   "source": [
    "from sklearn.preprocessing import StandardScaler\n",
    "\n",
    "scaler = StandardScaler()\n",
    "train_X = scaler.fit_transform(train_X)\n",
    "test_X_standard = scaler.transform(test_X)\n",
    "user_data = scaler.transform(Server.df)"
   ]
  },
  {
   "cell_type": "code",
   "execution_count": 12,
   "metadata": {},
   "outputs": [
    {
     "name": "stdout",
     "output_type": "stream",
     "text": [
      "['High Risk' 'Low Risk' 'Low Risk' ... 'High Risk' 'Low Risk' 'High Risk']\n"
     ]
    }
   ],
   "source": [
    "from sklearn.ensemble import RandomForestClassifier\n",
    "\n",
    "model = RandomForestClassifier(n_estimators=100, random_state=42)\n",
    "model.fit(train_X, train_y)\n",
    "\n",
    "print(model.predict(test_X_standard))"
   ]
  },
  {
   "cell_type": "code",
   "execution_count": null,
   "metadata": {},
   "outputs": [],
   "source": [
    "import joblib\n",
    "\n",
    "joblib.dump(model, 'model_trained.pkl')\n",
    "joblib.dump(scaler, 'scaler_trained.pkl')"
   ]
  }
 ],
 "metadata": {
  "kernelspec": {
   "display_name": "Python 3",
   "language": "python",
   "name": "python3"
  },
  "language_info": {
   "codemirror_mode": {
    "name": "ipython",
    "version": 3
   },
   "file_extension": ".py",
   "mimetype": "text/x-python",
   "name": "python",
   "nbconvert_exporter": "python",
   "pygments_lexer": "ipython3",
   "version": "3.11.9"
  }
 },
 "nbformat": 4,
 "nbformat_minor": 2
}
